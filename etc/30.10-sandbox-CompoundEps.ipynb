{
 "cells": [
  {
   "cell_type": "code",
   "execution_count": 1,
   "metadata": {},
   "outputs": [],
   "source": [
    "%load_ext autoreload\n",
    "%autoreload 2"
   ]
  },
  {
   "cell_type": "code",
   "execution_count": 1,
   "metadata": {},
   "outputs": [],
   "source": [
    "import datasets\n",
    "from tqdm.auto import tqdm"
   ]
  },
  {
   "cell_type": "code",
   "execution_count": 2,
   "metadata": {},
   "outputs": [
    {
     "name": "stderr",
     "output_type": "stream",
     "text": [
      "Using custom data configuration tencent-c2\n",
      "Found cached dataset tencent-compounds-emb (/Users/seantyh/.cache/huggingface/datasets/tencent-compounds-emb/tencent-c2/0.0.0/9b82dbd5d5f70e31abd2ff5af93b8071eb828c405a5d931356c83e2ee0b3fc26)\n"
     ]
    },
    {
     "data": {
      "application/vnd.jupyter.widget-view+json": {
       "model_id": "4361472e0e7a408bb94d0503fb761149",
       "version_major": 2,
       "version_minor": 0
      },
      "text/plain": [
       "  0%|          | 0/3 [00:00<?, ?it/s]"
      ]
     },
     "metadata": {},
     "output_type": "display_data"
    }
   ],
   "source": [
    "# c4_data = datasets.load_dataset(\"../data/tencent-compounds-emb\", name=\"tencent-c4\")\n",
    "c2_data = datasets.load_dataset(\"../data/tencent-compounds-emb\", name=\"tencent-c2\")\n",
    "c2_data = c2_data.remove_columns([\"compound_text\", \"const1_text\", \"const2_text\"])\n",
    "c2_data = c2_data.with_format(\"torch\")"
   ]
  },
  {
   "cell_type": "code",
   "execution_count": 3,
   "metadata": {},
   "outputs": [
    {
     "data": {
      "text/plain": [
       "251.671875"
      ]
     },
     "execution_count": 3,
     "metadata": {},
     "output_type": "execute_result"
    }
   ],
   "source": [
    "import psutil, os\n",
    "proc = psutil.Process(os.getpid())\n",
    "proc.memory_info().rss/1024**2"
   ]
  },
  {
   "cell_type": "code",
   "execution_count": 4,
   "metadata": {},
   "outputs": [],
   "source": [
    "import torch\n",
    "import torch.nn as nn\n",
    "import torch.optim as optim\n",
    "import torch.nn.functional as F"
   ]
  },
  {
   "cell_type": "code",
   "execution_count": 5,
   "metadata": {},
   "outputs": [],
   "source": [
    "class CompoundEps(nn.Module):\n",
    "  def __init__(self, emb_dim, h_dim=800, dropout=0.1):\n",
    "    super().__init__()\n",
    "    in_dim = emb_dim*2\n",
    "    out_dim = emb_dim\n",
    "    self.lin_proj = nn.Parameter(torch.randn(in_dim, out_dim))\n",
    "    self.fc_mod = nn.Sequential(\n",
    "      nn.Linear(in_dim, h_dim),\n",
    "      nn.Tanh(),\n",
    "      nn.Dropout(dropout),\n",
    "      nn.Linear(h_dim, out_dim),\n",
    "      nn.Tanh()\n",
    "    )\n",
    "\n",
    "  def forward(self, x, true_vecs=None):\n",
    "    lin = torch.matmul(x, self.lin_proj)\n",
    "    eps = self.fc_mod(x)\n",
    "    pred = lin+eps\n",
    "    if true_vecs is not None:\n",
    "      loss = F.mse_loss(pred, true_vecs)\n",
    "      return pred, loss\n",
    "    return pred"
   ]
  },
  {
   "cell_type": "code",
   "execution_count": 12,
   "metadata": {},
   "outputs": [],
   "source": [
    "from torch.utils.data import DataLoader\n",
    "train_loader = DataLoader(c2_data[\"train\"], batch_size=16, shuffle=False)\n",
    "val_loader = DataLoader(c2_data[\"validation\"], batch_size=16, shuffle=False)\n",
    "test_loader = DataLoader(c2_data[\"test\"], batch_size=16, shuffle=False)"
   ]
  },
  {
   "cell_type": "code",
   "execution_count": 16,
   "metadata": {},
   "outputs": [
    {
     "data": {
      "application/vnd.jupyter.widget-view+json": {
       "model_id": "78e23fb76d784d83b3ad96063fa60685",
       "version_major": 2,
       "version_minor": 0
      },
      "text/plain": [
       "  0%|          | 0/100 [00:00<?, ?it/s]"
      ]
     },
     "metadata": {},
     "output_type": "display_data"
    }
   ],
   "source": [
    "model = CompoundEps(200)\n",
    "optimizer = optim.AdamW(model.parameters(), lr=1e-2)\n",
    "loss_vec = []\n",
    "for epoch_i in tqdm(range(100)):\n",
    "  for batch in train_loader:\n",
    "    optimizer.zero_grad()\n",
    "    consts = batch[\"consts\"]\n",
    "    compound = batch[\"compound\"]\n",
    "    pred, loss = model(consts, compound)\n",
    "    loss.backward()\n",
    "    optimizer.step()\n",
    "    loss_vec.append(loss.item())\n",
    "    break\n"
   ]
  },
  {
   "cell_type": "code",
   "execution_count": 17,
   "metadata": {},
   "outputs": [
    {
     "data": {
      "text/plain": [
       "[<matplotlib.lines.Line2D at 0x293d0a080>]"
      ]
     },
     "execution_count": 17,
     "metadata": {},
     "output_type": "execute_result"
    },
    {
     "data": {
      "image/png": "[encoded data removed]",
      "text/plain": [
       "<Figure size 640x480 with 1 Axes>"
      ]
     },
     "metadata": {},
     "output_type": "display_data"
    }
   ],
   "source": [
    "import matplotlib.pyplot as plt\n",
    "plt.plot(loss_vec)"
   ]
  },
  {
   "cell_type": "code",
   "execution_count": null,
   "metadata": {},
   "outputs": [],
   "source": []
  },
  {
   "cell_type": "code",
   "execution_count": null,
   "metadata": {},
   "outputs": [],
   "source": []
  }
 ],
 "metadata": {
  "kernelspec": {
   "display_name": "base",
   "language": "python",
   "name": "python3"
  },
  "language_info": {
   "codemirror_mode": {
    "name": "ipython",
    "version": 3
   },
   "file_extension": ".py",
   "mimetype": "text/x-python",
   "name": "python",
   "nbconvert_exporter": "python",
   "pygments_lexer": "ipython3",
   "version": "3.10.8 (main, Nov 24 2022, 08:08:27) [Clang 14.0.6 ]"
  },
  "orig_nbformat": 4,
  "vscode": {
   "interpreter": {
    "hash": "b81060191240730aa09fed31e72eba5db6b6f6dec050c205cfe2cca45cb1305d"
   }
  }
 },
 "nbformat": 4,
 "nbformat_minor": 2
}
