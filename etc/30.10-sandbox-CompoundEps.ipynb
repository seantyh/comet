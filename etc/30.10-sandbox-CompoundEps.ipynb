{
 "cells": [
  {
   "cell_type": "code",
   "execution_count": 1,
   "metadata": {},
   "outputs": [],
   "source": [
    "%load_ext autoreload\n",
    "%autoreload 2"
   ]
  },
  {
   "cell_type": "code",
   "execution_count": 2,
   "metadata": {},
   "outputs": [],
   "source": [
    "import datasets\n",
    "from tqdm.auto import tqdm"
   ]
  },
  {
   "cell_type": "code",
   "execution_count": 3,
   "metadata": {},
   "outputs": [
    {
     "name": "stderr",
     "output_type": "stream",
     "text": [
      "Using custom data configuration tencent-c2\n",
      "Found cached dataset tencent-compounds-emb (/Users/seantyh/.cache/huggingface/datasets/tencent-compounds-emb/tencent-c2/0.0.0/f242cbb744e7869c56e5f391ecf7635f59a959576689309ce9c15d90ac3742f2)\n"
     ]
    },
    {
     "data": {
      "application/vnd.jupyter.widget-view+json": {
       "model_id": "c5518afffe83413388aba13bb93414cf",
       "version_major": 2,
       "version_minor": 0
      },
      "text/plain": [
       "  0%|          | 0/3 [00:00<?, ?it/s]"
      ]
     },
     "metadata": {},
     "output_type": "display_data"
    }
   ],
   "source": [
    "# c4_data = datasets.load_dataset(\"../data/tencent-compounds-emb\", name=\"tencent-c4\")\n",
    "c2_data = datasets.load_dataset(\"../data/tencent-compounds-emb\", name=\"tencent-c2\")\n",
    "c2_data = c2_data.remove_columns([\"compound_text\", \"const1_text\", \"const2_text\"])\n",
    "c2_data = c2_data.with_format(\"torch\")"
   ]
  },
  {
   "cell_type": "code",
   "execution_count": 4,
   "metadata": {},
   "outputs": [
    {
     "data": {
      "text/plain": [
       "252.09375"
      ]
     },
     "execution_count": 4,
     "metadata": {},
     "output_type": "execute_result"
    }
   ],
   "source": [
    "import psutil, os\n",
    "proc = psutil.Process(os.getpid())\n",
    "proc.memory_info().rss/1024**2"
   ]
  },
  {
   "cell_type": "code",
   "execution_count": 5,
   "metadata": {},
   "outputs": [],
   "source": [
    "import torch\n",
    "import torch.nn as nn\n",
    "import torch.optim as optim\n",
    "import torch.nn.functional as F"
   ]
  },
  {
   "cell_type": "code",
   "execution_count": 6,
   "metadata": {},
   "outputs": [],
   "source": [
    "class CompoundEps(nn.Module):\n",
    "  def __init__(self, emb_dim, h_dim=800, dropout=0.1):\n",
    "    super().__init__()\n",
    "    in_dim = emb_dim*2\n",
    "    out_dim = emb_dim\n",
    "    self.lin_proj = nn.Parameter(torch.randn(in_dim, out_dim))\n",
    "    self.fc_mod = nn.Sequential(\n",
    "      nn.Linear(in_dim, h_dim),\n",
    "      nn.Tanh(),\n",
    "      nn.Dropout(dropout),\n",
    "      nn.Linear(h_dim, out_dim),\n",
    "      nn.Tanh()\n",
    "    )\n",
    "\n",
    "  def forward(self, x, true_vecs=None):\n",
    "    lin = torch.matmul(x, self.lin_proj)\n",
    "    eps = self.fc_mod(x)\n",
    "    pred = lin+eps\n",
    "    if true_vecs is not None:\n",
    "      loss = F.mse_loss(pred, true_vecs)\n",
    "      return pred, loss\n",
    "    return pred"
   ]
  },
  {
   "cell_type": "code",
   "execution_count": 7,
   "metadata": {},
   "outputs": [],
   "source": [
    "from torch.utils.data import DataLoader\n",
    "train_loader = DataLoader(c2_data[\"train\"], batch_size=16, shuffle=False)\n",
    "val_loader = DataLoader(c2_data[\"validation\"], batch_size=16, shuffle=False)\n",
    "test_loader = DataLoader(c2_data[\"test\"], batch_size=16, shuffle=False)"
   ]
  },
  {
   "cell_type": "code",
   "execution_count": 8,
   "metadata": {},
   "outputs": [
    {
     "data": {
      "application/vnd.jupyter.widget-view+json": {
       "model_id": "a3ee7fba687143d18653aa2ef783bf87",
       "version_major": 2,
       "version_minor": 0
      },
      "text/plain": [
       "  0%|          | 0/100 [00:00<?, ?it/s]"
      ]
     },
     "metadata": {},
     "output_type": "display_data"
    }
   ],
   "source": [
    "model = CompoundEps(200)\n",
    "optimizer = optim.AdamW(model.parameters(), lr=1e-2)\n",
    "loss_vec = []\n",
    "for epoch_i in tqdm(range(100)):\n",
    "  for batch in train_loader:\n",
    "    optimizer.zero_grad()\n",
    "    consts = batch[\"consts\"]\n",
    "    compound = batch[\"compound\"]\n",
    "    pred, loss = model(consts, compound)\n",
    "    loss.backward()\n",
    "    optimizer.step()\n",
    "    loss_vec.append(loss.item())\n",
    "    break\n"
   ]
  },
  {
   "cell_type": "code",
   "execution_count": 9,
   "metadata": {},
   "outputs": [
    {
     "data": {
      "text/plain": [
       "[<matplotlib.lines.Line2D at 0x177661f30>]"
      ]
     },
     "execution_count": 9,
     "metadata": {},
     "output_type": "execute_result"
    },
    {
     "data": {
      "image/png": "[encoded data removed]",
      "text/plain": [
       "<Figure size 640x480 with 1 Axes>"
      ]
     },
     "metadata": {},
     "output_type": "display_data"
    }
   ],
   "source": [
    "import matplotlib.pyplot as plt\n",
    "plt.plot(loss_vec)"
   ]
  },
  {
   "cell_type": "markdown",
   "metadata": {},
   "source": [
    "## Calculate knn-accuracy"
   ]
  },
  {
   "cell_type": "code",
   "execution_count": 53,
   "metadata": {},
   "outputs": [],
   "source": [
    "import sys, os\n",
    "if \"../src/\" not in sys.path:\n",
    "  sys.path.insert(0, \"../src/\")\n",
    "from comet import compute_knn_accuracies"
   ]
  },
  {
   "cell_type": "code",
   "execution_count": 54,
   "metadata": {},
   "outputs": [
    {
     "data": {
      "application/vnd.jupyter.widget-view+json": {
       "model_id": "7263fe2d52e54d59aae463c981a3d8f3",
       "version_major": 2,
       "version_minor": 0
      },
      "text/plain": [
       "Computing knn accuracy:   0%|          | 0/175 [00:00<?, ?it/s]"
      ]
     },
     "metadata": {},
     "output_type": "display_data"
    },
    {
     "data": {
      "text/plain": [
       "[0.0007168458781362007,\n",
       " 0.0014336917562724014,\n",
       " 0.0014336917562724014,\n",
       " 0.0017921146953405018,\n",
       " 0.002150537634408602,\n",
       " 0.002867383512544803,\n",
       " 0.0035842293906810036,\n",
       " 0.003942652329749104,\n",
       " 0.003942652329749104,\n",
       " 0.005017921146953405,\n",
       " 0.005376344086021506,\n",
       " 0.0060931899641577065,\n",
       " 0.006810035842293907,\n",
       " 0.006810035842293907,\n",
       " 0.007168458781362007]"
      ]
     },
     "execution_count": 54,
     "metadata": {},
     "output_type": "execute_result"
    }
   ],
   "source": [
    "from sklearn.neighbors import NearestNeighbors\n",
    "import torch\n",
    "from torch.utils.data import DataLoader\n",
    "\n",
    "eval_dataset = c2_data[\"validation\"]\n",
    "eval_dataset = eval_dataset.add_column(\"idx\", np.arange(len(eval_dataset)))\n",
    "ref_vecs = eval_dataset[\"compound\"]\n",
    "loader = DataLoader(eval_dataset, batch_size=16, shuffle=False)\n",
    "knn = NearestNeighbors(n_neighbors=15, metric=\"cosine\")\\\n",
    "        .fit(ref_vecs)\n",
    "compute_knn_accuracies(model, loader, knn)"
   ]
  },
  {
   "cell_type": "code",
   "execution_count": 24,
   "metadata": {},
   "outputs": [
    {
     "data": {
      "text/plain": [
       "0.0"
      ]
     },
     "execution_count": 24,
     "metadata": {},
     "output_type": "execute_result"
    }
   ],
   "source": []
  },
  {
   "cell_type": "code",
   "execution_count": null,
   "metadata": {},
   "outputs": [],
   "source": []
  }
 ],
 "metadata": {
  "kernelspec": {
   "display_name": "base",
   "language": "python",
   "name": "python3"
  },
  "language_info": {
   "codemirror_mode": {
    "name": "ipython",
    "version": 3
   },
   "file_extension": ".py",
   "mimetype": "text/x-python",
   "name": "python",
   "nbconvert_exporter": "python",
   "pygments_lexer": "ipython3",
   "version": "3.10.8"
  },
  "orig_nbformat": 4,
  "vscode": {
   "interpreter": {
    "hash": "b81060191240730aa09fed31e72eba5db6b6f6dec050c205cfe2cca45cb1305d"
   }
  }
 },
 "nbformat": 4,
 "nbformat_minor": 2
}
