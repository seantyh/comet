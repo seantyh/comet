{
 "cells": [
  {
   "cell_type": "markdown",
   "id": "948db60f-baca-4d16-9289-cdceaa688528",
   "metadata": {},
   "source": [
    "# Linear Projection"
   ]
  },
  {
   "cell_type": "code",
   "execution_count": 1,
   "id": "522181c2-7fd6-46e7-8d3e-711ad883fc56",
   "metadata": {},
   "outputs": [],
   "source": [
    "from pathlib import Path\n",
    "import hashlib\n",
    "import pickle\n",
    "import numpy as np\n",
    "from sklearn.neighbors import NearestNeighbors"
   ]
  },
  {
   "cell_type": "markdown",
   "id": "2544ba4c-a002-4c75-abd8-502724133e19",
   "metadata": {},
   "source": [
    "## Data dependencies"
   ]
  },
  {
   "cell_type": "markdown",
   "id": "c52bb938-80f7-40e7-b6b3-846166586ce8",
   "metadata": {},
   "source": [
    "```\n",
    "tencent-compound-c4.pkl 0eb1e3\n",
    "```"
   ]
  },
  {
   "cell_type": "code",
   "execution_count": 2,
   "id": "45e1a01f-4b31-4dc2-b9d2-9d5afc6051b6",
   "metadata": {},
   "outputs": [
    {
     "name": "stdout",
     "output_type": "stream",
     "text": [
      "tencent-compound-c4.pkl 0eb1e3\n",
      "tencent-compound-c2.pkl 03d4cd\n"
     ]
    }
   ],
   "source": [
    "c4_path = Path(\"../data/tencent-compound-c4.pkl\")\n",
    "c2_path = Path(\"../data/tencent-compound-c2.pkl\")\n",
    "for path_x in (c4_path,c2_path):\n",
    "    h = hashlib.sha1()\n",
    "    h.update(path_x.read_bytes())\n",
    "    print(\"{} {}\".format(path_x.name, h.digest().hex()[:6]))"
   ]
  },
  {
   "cell_type": "code",
   "execution_count": 3,
   "id": "0d07d510-0b96-408a-8405-c5c603bb7607",
   "metadata": {},
   "outputs": [
    {
     "name": "stdout",
     "output_type": "stream",
     "text": [
      "c4_comps train/val/test:  (154305, 200) (19288, 200) (19289, 200)\n",
      "c2_comps train/val/test:  (22318, 200) (2790, 200) (2790, 200)\n"
     ]
    }
   ],
   "source": [
    "c4 = pickle.loads(c4_path.read_bytes())\n",
    "c2 = pickle.loads(c2_path.read_bytes())\n",
    "c4_train = c4[\"train\"]\n",
    "c4_val = c4[\"val\"]\n",
    "c4_test = c4[\"test\"]\n",
    "c2_train = c2[\"train\"]\n",
    "c2_val = c2[\"val\"]\n",
    "c2_test = c2[\"test\"]\n",
    "print(\"c4_comps train/val/test: \", c4_train[\"comps\"].shape, c4_val[\"comps\"].shape, c4_test[\"comps\"].shape)\n",
    "print(\"c2_comps train/val/test: \", c2_train[\"comps\"].shape, c2_val[\"comps\"].shape, c2_test[\"comps\"].shape)"
   ]
  },
  {
   "cell_type": "code",
   "execution_count": 4,
   "id": "99925ecc-55ea-4e3a-aa51-b24cf7438ace",
   "metadata": {},
   "outputs": [
    {
     "data": {
      "text/plain": [
       "['comps', 'consts', 'comps_text', 'c1_text', 'c2_text']"
      ]
     },
     "execution_count": 4,
     "metadata": {},
     "output_type": "execute_result"
    }
   ],
   "source": [
    "list(c4_train.keys())"
   ]
  },
  {
   "cell_type": "markdown",
   "id": "4bab2f72-64b9-4ab2-a7c1-6b4a79653e3a",
   "metadata": {},
   "source": [
    "## Estimate Projection"
   ]
  },
  {
   "cell_type": "code",
   "execution_count": 5,
   "id": "c6ca4fc6-dbd0-4ef5-bd7f-eb619f3d2cec",
   "metadata": {},
   "outputs": [],
   "source": [
    "def compute_projection(A, B):\n",
    "    \"\"\"\n",
    "    AX = B\n",
    "    return the estimated X\n",
    "    \"\"\"\n",
    "    AtA_inv = np.linalg.inv(np.dot(A.transpose(), A))\n",
    "    X = np.dot(np.dot(AtA_inv, A.transpose()), B)\n",
    "    return X\n",
    "\n",
    "def predict(A, X):\n",
    "    return np.dot(A, X)"
   ]
  },
  {
   "cell_type": "code",
   "execution_count": 6,
   "id": "303031e5-c69a-4141-b30e-b90283a4cb84",
   "metadata": {},
   "outputs": [],
   "source": [
    "train_c4_X = compute_projection(c4_train[\"consts\"], c4_train[\"comps\"])\n",
    "nbrs = NearestNeighbors(n_neighbors=15, metric=\"cosine\").fit(c4_test[\"comps\"])\n",
    "test_c4_preds = predict(c4_test[\"consts\"], train_c4_X)\n",
    "_, pred_c4_test_idxs = nbrs.kneighbors(test_c4_preds)"
   ]
  },
  {
   "cell_type": "code",
   "execution_count": 7,
   "id": "fd338f7e-2017-41ff-af60-e4ebd0060d37",
   "metadata": {},
   "outputs": [],
   "source": [
    "train_c2_X = compute_projection(c2_train[\"consts\"], c2_train[\"comps\"])\n",
    "nbrs = NearestNeighbors(n_neighbors=15, metric=\"cosine\").fit(c2_test[\"comps\"])\n",
    "test_c2_preds = predict(c2_test[\"consts\"], train_c2_X)\n",
    "_, pred_c2_test_idxs = nbrs.kneighbors(test_c2_preds)"
   ]
  },
  {
   "cell_type": "code",
   "execution_count": 8,
   "id": "358ce65c-b69f-40b3-bdb2-228d186e9b2c",
   "metadata": {},
   "outputs": [],
   "source": [
    "def compute_topk(pred_idxs):\n",
    "    topks = []\n",
    "    for k in range(15):\n",
    "        correct_mat = pred_idxs[:,:k+1]==np.arange(pred_idxs.shape[0])[:, np.newaxis]\n",
    "        acc = np.sum(np.any(correct_mat, axis=1))/correct_mat.shape[0]\n",
    "        topks.append(acc)\n",
    "    return topks"
   ]
  },
  {
   "cell_type": "code",
   "execution_count": 9,
   "id": "68be11f0-466e-4c68-a110-e6d8d46f45ee",
   "metadata": {},
   "outputs": [
    {
     "data": {
      "text/plain": [
       "<matplotlib.legend.Legend at 0x2877e5760>"
      ]
     },
     "execution_count": 9,
     "metadata": {},
     "output_type": "execute_result"
    },
    {
     "data": {
      "image/png": "[encoded data removed]",
      "text/plain": [
       "<Figure size 640x480 with 1 Axes>"
      ]
     },
     "metadata": {},
     "output_type": "display_data"
    }
   ],
   "source": [
    "import matplotlib.pyplot as plt\n",
    "plt.plot(compute_topk(pred_c4_test_idxs), label='c4')\n",
    "plt.plot(compute_topk(pred_c2_test_idxs), label='c2')\n",
    "plt.legend()"
   ]
  },
  {
   "cell_type": "code",
   "execution_count": null,
   "id": "5dd8e6fe-7069-45c8-9ee4-a8f7a366c9ca",
   "metadata": {},
   "outputs": [],
   "source": []
  },
  {
   "cell_type": "code",
   "execution_count": null,
   "id": "3270dcb6-2130-41d7-9034-ab3ee7d47748",
   "metadata": {},
   "outputs": [],
   "source": []
  }
 ],
 "metadata": {
  "kernelspec": {
   "display_name": "Python 3 (ipykernel)",
   "language": "python",
   "name": "python3"
  },
  "language_info": {
   "codemirror_mode": {
    "name": "ipython",
    "version": 3
   },
   "file_extension": ".py",
   "mimetype": "text/x-python",
   "name": "python",
   "nbconvert_exporter": "python",
   "pygments_lexer": "ipython3",
   "version": "3.9.12"
  }
 },
 "nbformat": 4,
 "nbformat_minor": 5
}
